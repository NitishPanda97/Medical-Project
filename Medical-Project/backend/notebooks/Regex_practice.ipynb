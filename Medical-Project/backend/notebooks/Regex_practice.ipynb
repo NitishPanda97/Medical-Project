{
 "cells": [
  {
   "cell_type": "code",
   "execution_count": 2,
   "id": "17ffed50",
   "metadata": {},
   "outputs": [],
   "source": [
    "import re"
   ]
  },
  {
   "cell_type": "code",
   "execution_count": 2,
   "id": "fd317c6c",
   "metadata": {},
   "outputs": [
    {
     "data": {
      "text/plain": [
       "['7321119999', '120']"
      ]
     },
     "execution_count": 2,
     "metadata": {},
     "output_type": "execute_result"
    }
   ],
   "source": [
    "text = \"Patient's phone is 7321119999. Bill amount is 120$\"\n",
    "pattern = \"\\d+\"\n",
    "match = re.findall(pattern,text)\n",
    "match"
   ]
  },
  {
   "cell_type": "code",
   "execution_count": 3,
   "id": "aa357ee4",
   "metadata": {},
   "outputs": [
    {
     "data": {
      "text/plain": [
       "['7321119999']"
      ]
     },
     "execution_count": 3,
     "metadata": {},
     "output_type": "execute_result"
    }
   ],
   "source": [
    "text = \"Patient's phone is 7321119999. Bill amount is 120$\"\n",
    "pattern = \"\\d{10}\"\n",
    "match = re.findall(pattern,text)\n",
    "match"
   ]
  },
  {
   "cell_type": "code",
   "execution_count": 4,
   "id": "e52c130d",
   "metadata": {},
   "outputs": [
    {
     "data": {
      "text/plain": [
       "['(732)-111-9999', '7326664444', '120$']"
      ]
     },
     "execution_count": 4,
     "metadata": {},
     "output_type": "execute_result"
    }
   ],
   "source": [
    "text = \"Patient's phone is (732)-111-9999, spouse phone number 7326664444. Bill amount is 120$\"\n",
    "pattern = \"\\(\\d{3}\\)-\\d{3}-\\d{4}|\\d{3}\\$|\\d{10}\"\n",
    "match = re.findall(pattern,text)\n",
    "match"
   ]
  },
  {
   "cell_type": "code",
   "execution_count": 13,
   "id": "f264c069",
   "metadata": {},
   "outputs": [
    {
     "data": {
      "text/plain": [
       "<re.Match object; span=(19, 50), match='7321119999. Bill amount is 120$'>"
      ]
     },
     "execution_count": 13,
     "metadata": {},
     "output_type": "execute_result"
    }
   ],
   "source": [
    "text = \"Patient's phone is 7321119999. Bill amount is 120$\"\n",
    "pattern = \"(\\d{10})\\D+(\\d+)\\$\"\n",
    "match = re.search(pattern,text)\n",
    "match"
   ]
  },
  {
   "cell_type": "code",
   "execution_count": 14,
   "id": "ed430eb6",
   "metadata": {},
   "outputs": [],
   "source": [
    "phone_number, bill_amount = match.groups()"
   ]
  },
  {
   "cell_type": "code",
   "execution_count": 15,
   "id": "aa2f7258",
   "metadata": {},
   "outputs": [
    {
     "data": {
      "text/plain": [
       "'7321119999'"
      ]
     },
     "execution_count": 15,
     "metadata": {},
     "output_type": "execute_result"
    }
   ],
   "source": [
    "phone_number"
   ]
  },
  {
   "cell_type": "code",
   "execution_count": 16,
   "id": "1fd26509",
   "metadata": {},
   "outputs": [
    {
     "data": {
      "text/plain": [
       "'120'"
      ]
     },
     "execution_count": 16,
     "metadata": {},
     "output_type": "execute_result"
    }
   ],
   "source": [
    "bill_amount"
   ]
  },
  {
   "cell_type": "code",
   "execution_count": 4,
   "id": "c1efb819",
   "metadata": {},
   "outputs": [
    {
     "data": {
      "text/plain": [
       "['elonmusk', 'teslarati', 'dummy_tesla', 'dummy_2_tesla']"
      ]
     },
     "execution_count": 4,
     "metadata": {},
     "output_type": "execute_result"
    }
   ],
   "source": [
    "text = '''Follow our leader Elon musk on Twitter \n",
    "here: https://twitter.com/elonmusk, more information \n",
    "on Tesla's products can be found at https://www.tesla.com/. \n",
    "Also here are leading influencers for tesla-related news, \n",
    "https://twitter.com/teslarati\n",
    "https://twitter.com/dummy_tesla\n",
    "https://twitter.com/dummy_2_tesla'''\n",
    "pattern = \"https:\\/\\/twitter.com\\/([a-zA-Z0-9_]+)\"\n",
    "match = re.findall(pattern,text)\n",
    "match"
   ]
  },
  {
   "cell_type": "code",
   "execution_count": null,
   "id": "10c160db",
   "metadata": {},
   "outputs": [],
   "source": []
  }
 ],
 "metadata": {
  "kernelspec": {
   "display_name": "Python 3",
   "language": "python",
   "name": "python3"
  },
  "language_info": {
   "codemirror_mode": {
    "name": "ipython",
    "version": 3
   },
   "file_extension": ".py",
   "mimetype": "text/x-python",
   "name": "python",
   "nbconvert_exporter": "python",
   "pygments_lexer": "ipython3",
   "version": "3.8.8"
  }
 },
 "nbformat": 4,
 "nbformat_minor": 5
}
